{
 "cells": [
  {
   "cell_type": "code",
   "execution_count": 6,
   "metadata": {},
   "outputs": [
    {
     "name": "stdout",
     "output_type": "stream",
     "text": [
      "Requirement already satisfied: lxml in c:\\miniconda3\\lib\\site-packages (5.3.0)\n",
      "Requirement already satisfied: html5lib in c:\\miniconda3\\lib\\site-packages (1.1)\n",
      "Requirement already satisfied: bs4 in c:\\miniconda3\\lib\\site-packages (0.0.2)\n",
      "Requirement already satisfied: six>=1.9 in c:\\users\\nathan adhitya\\appdata\\roaming\\python\\python312\\site-packages (from html5lib) (1.16.0)\n",
      "Requirement already satisfied: webencodings in c:\\miniconda3\\lib\\site-packages (from html5lib) (0.5.1)\n",
      "Requirement already satisfied: beautifulsoup4 in c:\\miniconda3\\lib\\site-packages (from bs4) (4.12.3)\n",
      "Requirement already satisfied: soupsieve>1.2 in c:\\miniconda3\\lib\\site-packages (from beautifulsoup4->bs4) (2.6)\n",
      "Note: you may need to restart the kernel to use updated packages.\n"
     ]
    }
   ],
   "source": [
    "%pip install lxml html5lib bs4"
   ]
  },
  {
   "cell_type": "code",
   "execution_count": null,
   "metadata": {},
   "outputs": [
    {
     "name": "stdout",
     "output_type": "stream",
     "text": [
      "EmailContent(title=Your Grab E-Receipt, from_email=no-reply@grab.com)\n"
     ]
    }
   ],
   "source": [
    "import email\n",
    "import email.parser\n",
    "import email.message\n",
    "import email.policy\n",
    "\n",
    "target_file = \"dumped/bca.co.id-193618fc3f3df1f8.eml\"\n",
    "with open(target_file, \"rb\") as f:\n",
    "    parser = email.parser.BytesParser(email.message.EmailMessage, policy=email.policy.default)\n",
    "    data = parser.parse(f)\n",
    "\n",
    "from extractors.base_extractor import EmailContent\n",
    "content = EmailContent(data)\n",
    "\n",
    "print(content)"
   ]
  },
  {
   "cell_type": "code",
   "execution_count": 60,
   "metadata": {},
   "outputs": [
    {
     "data": {
      "text/plain": [
       "'GrabCar  Hope you enjoyed your ride!  Picked up on 20 November 2024  Booking ID: A-75RED7CGWH57'"
      ]
     },
     "execution_count": 60,
     "metadata": {},
     "output_type": "execute_result"
    }
   ],
   "source": [
    "content.get_dfs(thousands=\".\")[1].iloc[0][0]"
   ]
  }
 ],
 "metadata": {
  "kernelspec": {
   "display_name": "base",
   "language": "python",
   "name": "python3"
  },
  "language_info": {
   "codemirror_mode": {
    "name": "ipython",
    "version": 3
   },
   "file_extension": ".py",
   "mimetype": "text/x-python",
   "name": "python",
   "nbconvert_exporter": "python",
   "pygments_lexer": "ipython3",
   "version": "3.12.4"
  }
 },
 "nbformat": 4,
 "nbformat_minor": 2
}
