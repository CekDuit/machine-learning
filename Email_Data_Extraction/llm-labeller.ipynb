{
 "cells": [
  {
   "cell_type": "code",
   "execution_count": null,
   "id": "28e2bd4e-24f8-413c-b393-3440dd418128",
   "metadata": {},
   "outputs": [],
   "source": [
    "import ollama\n",
    "\n",
    "def is_transaction_email_title(title: str):\n",
    "    response = ollama.chat(model='llama3.2-vision:11b-instruct-q4_K_M', messages=[\n",
    "        {\n",
    "            'role': 'system',\n",
    "            'content': \"\"\"You are an expert in classifying email titles whether they are a transaction journal/receipt or not.\n",
    "\n",
    "Your task:\n",
    "Only output a \"true\" or \"false\" for each title that is given. Each title also has a from:<domain>. You may ignore the source domain.\n",
    "Make sure to return \"false\" for promotional or emails about returns.\n",
    "\n",
    "Example:\n",
    "Input: Internet Transaction Journal from:bca.co.id\n",
    "Result: true\n",
    "\n",
    "Input: Your Grab E-Receipt from:grab.com\n",
    "Result: true\n",
    "\n",
    "Input: OVO QR Payment Receipt from:ovo.co.id\n",
    "Result: true\n",
    "\n",
    "Input: Surplus Neraca Perdagangan RI di Bawah Ekspektasi from:stockbit.com\n",
    "Result: false\n",
    "\n",
    "IMPORTANT: Provide ONLY the true/false answer. Do not include any introductory phrases,\n",
    "labels, or meta-text like \"Here's an answer\"\n",
    "Start directly with the answer.\n",
    "            \"\"\"\n",
    "        },\n",
    "        {\n",
    "            'role': 'user',\n",
    "            'content': title,\n",
    "        },\n",
    "    ])\n",
    "\n",
    "    result = response['message']['content'].lower()\n",
    "\n",
    "    if result != \"true\" and result != \"false\":\n",
    "        print(f\"Title `{title}` unexpected answer: {result}\")\n",
    "\n",
    "    return result == \"true\""
   ]
  },
  {
   "cell_type": "code",
   "execution_count": null,
   "id": "7b9372d8-d527-4810-b7eb-99bd3177ae41",
   "metadata": {},
   "outputs": [],
   "source": [
    "import pandas as pd\n",
    "\n",
    "df = pd.read_csv(\"titles.csv\")\n",
    "df"
   ]
  },
  {
   "cell_type": "code",
   "execution_count": null,
   "id": "46ce24df-456c-4ae1-9907-2e0998ab0c5a",
   "metadata": {},
   "outputs": [],
   "source": [
    "classifications = [False] * 10000\n",
    "\n",
    "for idx, row in df.iterrows():\n",
    "    if idx % 100 == 0:\n",
    "        print(f\"Progress: {idx}/{len(df)}\")\n",
    "        \n",
    "    classifications[idx] = is_transaction_email_title(row[\"title\"])\n",
    "\n",
    "# Merge to main df\n",
    "df[\"is_transaction\"] = classifications\n",
    "df"
   ]
  },
  {
   "cell_type": "code",
   "execution_count": null,
   "id": "4723bea6-84a2-4355-8ef1-7021ee3cc5ce",
   "metadata": {},
   "outputs": [],
   "source": [
    "df.to_csv(\"titles-labelled.csv\")"
   ]
  }
 ],
 "metadata": {
  "kernelspec": {
   "display_name": "Python 3 (ipykernel)",
   "language": "python",
   "name": "python3"
  },
  "language_info": {
   "codemirror_mode": {
    "name": "ipython",
    "version": 3
   },
   "file_extension": ".py",
   "mimetype": "text/x-python",
   "name": "python",
   "nbconvert_exporter": "python",
   "pygments_lexer": "ipython3",
   "version": "3.10.10"
  }
 },
 "nbformat": 4,
 "nbformat_minor": 5
}
