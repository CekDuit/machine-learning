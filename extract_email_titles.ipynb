{
 "cells": [
  {
   "cell_type": "markdown",
   "metadata": {
    "id": "u-_Z4ol2maC0"
   },
   "source": [
    "# **Install Library**"
   ]
  },
  {
   "cell_type": "code",
   "execution_count": null,
   "metadata": {
    "colab": {
     "base_uri": "https://localhost:8080/",
     "height": 989
    },
    "id": "8ziSCVhS1omb",
    "outputId": "241bb473-3f6b-404c-d247-72f96394adf3"
   },
   "outputs": [],
   "source": [
    "%pip uninstall -y google-auth-oauthlib google-auth-httplib2 google-auth google-api-python-client\n",
    "%pip install --upgrade google-auth-oauthlib==0.4.1 google-auth-httplib2 google-auth==2.27.0 google-api-python-client"
   ]
  },
  {
   "cell_type": "markdown",
   "metadata": {
    "id": "yRkedKJFmdP6"
   },
   "source": [
    "# **Import Library**"
   ]
  },
  {
   "cell_type": "code",
   "execution_count": null,
   "metadata": {
    "id": "8LUmWMQJmZAx"
   },
   "outputs": [],
   "source": [
    "import os\n",
    "import base64\n",
    "import re\n",
    "import pandas as pd\n",
    "\n",
    "from google.auth.transport.requests import Request\n",
    "from google.oauth2.credentials import Credentials\n",
    "from google_auth_oauthlib.flow import InstalledAppFlow\n",
    "from googleapiclient.discovery import build"
   ]
  },
  {
   "cell_type": "markdown",
   "metadata": {
    "id": "kf7ckgcXsGxQ"
   },
   "source": [
    "# **Utama**"
   ]
  },
  {
   "cell_type": "code",
   "execution_count": null,
   "metadata": {
    "colab": {
     "base_uri": "https://localhost:8080/"
    },
    "id": "NdwpvcOiUuZH",
    "outputId": "550009d8-210d-44ca-ec93-eb6b7afbcb95"
   },
   "outputs": [],
   "source": [
    "from google_auth_oauthlib.flow import InstalledAppFlow\n",
    "\n",
    "flow = InstalledAppFlow.from_client_secrets_file(\n",
    "    \"client_secret.json\", scopes=[\"https://www.googleapis.com/auth/gmail.readonly\"]\n",
    ")\n",
    "\n",
    "credentials = flow.run_console()\n",
    "gmail_service = build(\"gmail\", \"v1\", credentials=credentials)\n",
    "\n",
    "# Clear the output for safety\n",
    "from IPython.display import clear_output\n",
    "clear_output()"
   ]
  },
  {
   "cell_type": "code",
   "execution_count": null,
   "metadata": {
    "id": "mrScgynfjOB9"
   },
   "outputs": [],
   "source": [
    "import re\n",
    "\n",
    "def extract_domain(email):\n",
    "  \"\"\"Extracts the domain name from an email address.\n",
    "\n",
    "  Args:\n",
    "    email: The email address to extract the domain from.\n",
    "\n",
    "  Returns:\n",
    "    The domain name, or None if the email address is invalid.\n",
    "  \"\"\"\n",
    "  match = re.search(r\"@[\\w.\\-]+\", email)\n",
    "  if match:\n",
    "    return match.group().lstrip('@')\n",
    "  return None"
   ]
  },
  {
   "cell_type": "code",
   "execution_count": null,
   "metadata": {
    "colab": {
     "base_uri": "https://localhost:8080/"
    },
    "id": "LqvKTdA9h5p3",
    "outputId": "fb08b41d-12b1-4b5c-da1c-0cc3efa18a3d"
   },
   "outputs": [],
   "source": [
    "# Extract titles with the Gmail API\n",
    "extract_limit = 10000\n",
    "extracted_count = 0\n",
    "titles = []\n",
    "\n",
    "next_page_token = None\n",
    "\n",
    "while(extracted_count < extract_limit):\n",
    "  results = gmail_service.users().messages().list(userId='me', maxResults=500).execute()\n",
    "  messages = results.get('messages', [])\n",
    "  result_size_estimate = results.get('resultSizeEstimate', 0)\n",
    "  next_page_token = results.get('nextPageToken', None)\n",
    "\n",
    "  if len(messages) == 0:\n",
    "    break\n",
    "\n",
    "  # The extracted title should contain: {actual title} {sender domain}, to hopefully help with automatic tagging.\n",
    "  for message in messages:\n",
    "    # Fetching metadata, including headers.\n",
    "    msg = gmail_service.users().messages().get(userId='me', id=message['id'], format='metadata').execute()\n",
    "    headers = msg['payload']['headers']\n",
    "\n",
    "    # Extracting subject from headers.\n",
    "    subject = next((header['value'] for header in headers if header['name'] == 'Subject'), '')\n",
    "    from_email = next((header['value'] for header in headers if header['name'] == 'From'), '')\n",
    "\n",
    "    # Extract domain\n",
    "    from_domain = extract_domain(from_email)\n",
    "\n",
    "    titles.append(f\"{subject} from:{from_domain}\")\n",
    "\n",
    "  if next_page_token == None:\n",
    "    break\n",
    "\n",
    "  extracted_count += len(messages)\n",
    "  print(f\"Extracted {extracted_count}/{extract_limit} emails so far...\")\n",
    "\n",
    "titles[:10]"
   ]
  },
  {
   "cell_type": "code",
   "execution_count": null,
   "metadata": {
    "colab": {
     "base_uri": "https://localhost:8080/",
     "height": 17
    },
    "id": "fwy3qLPqj69B",
    "outputId": "914fa7a4-0b41-4327-df69-13f8ab077c61"
   },
   "outputs": [],
   "source": [
    "# Turn into a CSV and download\n",
    "df = pd.DataFrame(titles, columns=['title'])\n",
    "df.to_csv('email-titles.csv', index=False)\n",
    "\n",
    "from google.colab import files\n",
    "files.download('email-titles.csv')"
   ]
  }
 ],
 "metadata": {
  "colab": {
   "provenance": []
  },
  "kernelspec": {
   "display_name": "Python 3",
   "name": "python3"
  },
  "language_info": {
   "name": "python"
  }
 },
 "nbformat": 4,
 "nbformat_minor": 0
}
