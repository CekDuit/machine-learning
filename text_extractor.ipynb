{
 "cells": [
  {
   "cell_type": "code",
   "execution_count": 1,
   "metadata": {},
   "outputs": [],
   "source": [
    "from extractors.mybca import MyBCAExtrator"
   ]
  },
  {
   "cell_type": "code",
   "execution_count": 2,
   "metadata": {},
   "outputs": [
    {
     "data": {
      "text/plain": [
       "'TransactionData(is_incoming=False, payment_method=myBCA, currency=IDR, amount=1000000.00, description=-, merchant=RHENNATA, trx_id=C111E849-5D5A-4004-953E-BE113EAEDB54, date=2024-11-19 17:52:19, )'"
      ]
     },
     "execution_count": 2,
     "metadata": {},
     "output_type": "execute_result"
    }
   ],
   "source": [
    "data = \"\"\"\n",
    "<https://bca.id/2xpv2w0>\n",
    "\n",
    "\n",
    "Hi NATHAN ADHITYA,\n",
    "You just made a transaction through myBCA.\n",
    "Here are the details of your transaction :\n",
    "\n",
    "Status \t: \tSuccessful\n",
    "Transaction Date \t: \t19 Nov 2024 17:52:19\n",
    "Transfer Type \t: \tTransfer to BCA Account\n",
    "Source of Fund \t: \t7625xxxx79\n",
    "Source Currency \t: \tIDR - Indonesian Rupiah\n",
    "Beneficiary Account \t: \t7625049032\n",
    "Target Currency \t: \tIDR - Indonesian Rupiah\n",
    "Beneficiary Name \t: \tRHENNATA\n",
    "Target Amount \t: \tIDR 1,000,000.00\n",
    "Remarks \t: \t-\n",
    "Reference No. \t: \tC111E849-5D5A-4004-953E-BE113EAEDB54\n",
    "\n",
    "Please save this email as your transaction reference.\n",
    "If you do not recognize this transaction, immediately contact Halo BCA at 1500888.\n",
    "\n",
    "Best Regards,\n",
    "\n",
    "PT Bank Central Asia Tbk\n",
    "\"\"\"\n",
    "\n",
    "str(MyBCAExtrator().extract(data)[0])"
   ]
  }
 ],
 "metadata": {
  "kernelspec": {
   "display_name": "base",
   "language": "python",
   "name": "python3"
  },
  "language_info": {
   "codemirror_mode": {
    "name": "ipython",
    "version": 3
   },
   "file_extension": ".py",
   "mimetype": "text/x-python",
   "name": "python",
   "nbconvert_exporter": "python",
   "pygments_lexer": "ipython3",
   "version": "3.12.4"
  }
 },
 "nbformat": 4,
 "nbformat_minor": 2
}
